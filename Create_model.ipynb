{
 "cells": [
  {
   "cell_type": "markdown",
   "metadata": {},
   "source": [
    "## connect ML with watson studio"
   ]
  },
  {
   "cell_type": "code",
   "execution_count": 1,
   "metadata": {
    "scrolled": true
   },
   "outputs": [],
   "source": [
    "#please change your own credentials from WML service credentials channel\n",
    "wml_credentials = {\n",
    "  \"apikey\": \"pTnqNZ0XAffootUTOqc1XMomvp4I3EbyaSd8AkbiZ21g\",\n",
    "  \"iam_apikey_description\": \"Auto generated apikey during resource-key operation for Instance - crn:v1:bluemix:public:pm-20:us-south:a/4171c5a3fdf4490ba445218f5bcdea3a:760eae04-56a0-43a8-b03b-f8debca2d81e::\",\n",
    "  \"iam_apikey_name\": \"auto-generated-apikey-55cc61b4-90a1-41f0-b4a0-7804cdb95aa9\",\n",
    "  \"iam_role_crn\": \"crn:v1:bluemix:public:iam::::serviceRole:Writer\",\n",
    "  \"iam_serviceid_crn\": \"crn:v1:bluemix:public:iam-identity::a/4171c5a3fdf4490ba445218f5bcdea3a::serviceid:ServiceId-ba4b4153-cba7-434c-996a-c29ee7de6c4d\",\n",
    "  \"instance_id\": \"760eae04-56a0-43a8-b03b-f8debca2d81e\",\n",
    "  \"password\": \"6c716585-43b5-40f3-8320-19cfd03b6247\",\n",
    "  \"url\": \"https://us-south.ml.cloud.ibm.com\",\n",
    "  \"username\": \"55cc61b4-90a1-41f0-b4a0-7804cdb95aa9\"\n",
    "}\n"
   ]
  },
  {
   "cell_type": "code",
   "execution_count": 2,
   "metadata": {},
   "outputs": [
    {
     "name": "stdout",
     "output_type": "stream",
     "text": [
      "Collecting watson-machine-learning-client\n",
      "  Downloading https://pypi.tuna.tsinghua.edu.cn/packages/16/c7/4c2b9a0dbd68c0cebd8ccee73420a3e7397627bb2701376da95cf00eac9c/watson_machine_learning_client-1.0.313.tar.gz (535kB)\n",
      "\u001b[K    100% |████████████████████████████████| 542kB 198kB/s ta 0:00:01\n",
      "\u001b[?25h    Complete output from command python setup.py egg_info:\n",
      "    Traceback (most recent call last):\n",
      "      File \"<string>\", line 1, in <module>\n",
      "      File \"/tmp/pip-build-H1mFdi/watson-machine-learning-client/setup.py\", line 30, in <module>\n",
      "        with open(os.path.join(this_directory, 'README.md'), encoding='utf-8') as f:\n",
      "    TypeError: 'encoding' is an invalid keyword argument for this function\n",
      "    \n",
      "    ----------------------------------------\n",
      "\u001b[31mCommand \"python setup.py egg_info\" failed with error code 1 in /tmp/pip-build-H1mFdi/watson-machine-learning-client/\u001b[0m\n",
      "\u001b[33mYou are using pip version 9.0.1, however version 18.0 is available.\n",
      "You should consider upgrading via the 'pip install --upgrade pip' command.\u001b[0m\n"
     ]
    }
   ],
   "source": [
    "!pip install --upgrade watson-machine-learning-client"
   ]
  },
  {
   "cell_type": "code",
   "execution_count": 3,
   "metadata": {},
   "outputs": [],
   "source": [
    "!rm -rf $PIP_BUILD/watson-machine-learning-client"
   ]
  },
  {
   "cell_type": "code",
   "execution_count": 4,
   "metadata": {},
   "outputs": [
    {
     "name": "stdout",
     "output_type": "stream",
     "text": [
      "Collecting watson-machine-learning-client\n",
      "  Using cached https://pypi.tuna.tsinghua.edu.cn/packages/16/c7/4c2b9a0dbd68c0cebd8ccee73420a3e7397627bb2701376da95cf00eac9c/watson_machine_learning_client-1.0.313.tar.gz\n",
      "    Complete output from command python setup.py egg_info:\n",
      "    Traceback (most recent call last):\n",
      "      File \"<string>\", line 1, in <module>\n",
      "      File \"/tmp/pip-build-Ku4u8C/watson-machine-learning-client/setup.py\", line 30, in <module>\n",
      "        with open(os.path.join(this_directory, 'README.md'), encoding='utf-8') as f:\n",
      "    TypeError: 'encoding' is an invalid keyword argument for this function\n",
      "    \n",
      "    ----------------------------------------\n",
      "\u001b[31mCommand \"python setup.py egg_info\" failed with error code 1 in /tmp/pip-build-Ku4u8C/watson-machine-learning-client/\u001b[0m\n",
      "\u001b[33mYou are using pip version 9.0.1, however version 18.0 is available.\n",
      "You should consider upgrading via the 'pip install --upgrade pip' command.\u001b[0m\n"
     ]
    }
   ],
   "source": [
    "!pip install --upgrade watson-machine-learning-client"
   ]
  },
  {
   "cell_type": "code",
   "execution_count": 5,
   "metadata": {},
   "outputs": [],
   "source": [
    "from watson_machine_learning_client import WatsonMachineLearningAPIClient"
   ]
  },
  {
   "cell_type": "code",
   "execution_count": 6,
   "metadata": {},
   "outputs": [],
   "source": [
    "#define the wml client\n",
    "client = WatsonMachineLearningAPIClient(wml_credentials)"
   ]
  },
  {
   "cell_type": "code",
   "execution_count": 7,
   "metadata": {
    "scrolled": true
   },
   "outputs": [
    {
     "name": "stdout",
     "output_type": "stream",
     "text": [
      "1.0.302\n"
     ]
    }
   ],
   "source": [
    "#test the client\n",
    "print(client.version)"
   ]
  },
  {
   "cell_type": "code",
   "execution_count": null,
   "metadata": {},
   "outputs": [],
   "source": []
  },
  {
   "cell_type": "code",
   "execution_count": null,
   "metadata": {},
   "outputs": [],
   "source": []
  },
  {
   "cell_type": "code",
   "execution_count": null,
   "metadata": {},
   "outputs": [],
   "source": []
  },
  {
   "cell_type": "code",
   "execution_count": null,
   "metadata": {},
   "outputs": [],
   "source": []
  },
  {
   "cell_type": "code",
   "execution_count": null,
   "metadata": {},
   "outputs": [],
   "source": []
  },
  {
   "cell_type": "markdown",
   "metadata": {},
   "source": [
    "## connect storge with watson studio"
   ]
  },
  {
   "cell_type": "code",
   "execution_count": 8,
   "metadata": {},
   "outputs": [],
   "source": [
    "import ibm_boto3\n",
    "from ibm_botocore.client import Config\n",
    "import os\n",
    "import json\n",
    "import warnings\n",
    "import time"
   ]
  },
  {
   "cell_type": "code",
   "execution_count": 9,
   "metadata": {},
   "outputs": [],
   "source": [
    "#please change your own credentials from COS service credentials channel,when you create your credential,use {'HAMC':ture}\n",
    "#as the json file\n",
    "\n",
    "cos_credentials = {\n",
    "  \"apikey\": \"eUU7ks-YstaFkkEjoIVEsUkvU2_mUq-tcwfyQamY6kim\",\n",
    "  \"cos_hmac_keys\": {\n",
    "    \"access_key_id\": \"f1ac76f0074244f9a07d5debb286f122\",\n",
    "    \"secret_access_key\": \"c623bb131af41897c674eec7f7700446fdbeecf6c993d105\"\n",
    "  },\n",
    "  \"endpoints\": \"https://cos-service.bluemix.net/endpoints\",\n",
    "  \"iam_apikey_description\": \"Auto generated apikey during resource-key operation for Instance - crn:v1:bluemix:public:cloud-object-storage:global:a/4171c5a3fdf4490ba445218f5bcdea3a:ddbf4da0-34e3-4055-aba2-6b23b0b2b78b::\",\n",
    "  \"iam_apikey_name\": \"auto-generated-apikey-f1ac76f0-0742-44f9-a07d-5debb286f122\",\n",
    "  \"iam_role_crn\": \"crn:v1:bluemix:public:iam::::serviceRole:Writer\",\n",
    "  \"iam_serviceid_crn\": \"crn:v1:bluemix:public:iam-identity::a/4171c5a3fdf4490ba445218f5bcdea3a::serviceid:ServiceId-ed5194dd-dab1-411b-b53c-df5f95c3d594\",\n",
    "  \"resource_instance_id\": \"crn:v1:bluemix:public:cloud-object-storage:global:a/4171c5a3fdf4490ba445218f5bcdea3a:ddbf4da0-34e3-4055-aba2-6b23b0b2b78b::\"\n",
    "}\n",
    "\n",
    "api_key = cos_credentials['apikey']\n",
    "service_instance_id = cos_credentials['resource_instance_id']\n",
    "\n"
   ]
  },
  {
   "cell_type": "code",
   "execution_count": 10,
   "metadata": {},
   "outputs": [],
   "source": [
    "#it was define in the cos service endpoint channel\n",
    "service_endpoint = 'https://s3-api.us-geo.objectstorage.softlayer.net'"
   ]
  },
  {
   "cell_type": "code",
   "execution_count": 11,
   "metadata": {},
   "outputs": [],
   "source": [
    "auth_endpoint = 'https://iam.bluemix.net/oidc/token'"
   ]
  },
  {
   "cell_type": "code",
   "execution_count": 12,
   "metadata": {},
   "outputs": [],
   "source": [
    "#cos config\n",
    "cos = ibm_boto3.resource ('s3',\n",
    "                         ibm_api_key_id=api_key,\n",
    "                         ibm_service_instance_id=service_instance_id,\n",
    "                         ibm_auth_endpoint=auth_endpoint,\n",
    "                         config=Config(signature_version='oauth'),\n",
    "                         endpoint_url=service_endpoint)"
   ]
  },
  {
   "cell_type": "code",
   "execution_count": 13,
   "metadata": {},
   "outputs": [],
   "source": [
    "#change your own bucket name\n",
    "buckets = ['wktest1', 'wktest2']\n",
    "for bucket in buckets:\n",
    "    if not cos.Bucket(bucket) in cos.buckets.all():\n",
    "        print('Creating bucket \"{}\"...'.format(bucket))\n",
    "        try:\n",
    "            cos.create_bucket(Bucket=bucket)\n",
    "        except ibm_boto3.exceptions.ibm_botocore.client.ClientError as e:\n",
    "            print('Error: {}.'.format(e.response['Error']['Message']))"
   ]
  },
  {
   "cell_type": "code",
   "execution_count": 14,
   "metadata": {
    "scrolled": true
   },
   "outputs": [
    {
     "name": "stdout",
     "output_type": "stream",
     "text": [
      "[s3.Bucket(name='history'), s3.Bucket(name='newproject-donotdelete-pr-fv0nfbh7kpcho3'), s3.Bucket(name='predict'), s3.Bucket(name='readyprotest-donotdelete-pr-ommcyhpr2zknu1'), s3.Bucket(name='wktest1'), s3.Bucket(name='wktest2'), s3.Bucket(name='wktest3'), s3.Bucket(name='wktest4')]\n"
     ]
    }
   ],
   "source": [
    "#test the cos\n",
    "print(list(cos.buckets.all()))"
   ]
  },
  {
   "cell_type": "code",
   "execution_count": null,
   "metadata": {},
   "outputs": [],
   "source": []
  },
  {
   "cell_type": "code",
   "execution_count": null,
   "metadata": {},
   "outputs": [],
   "source": []
  },
  {
   "cell_type": "code",
   "execution_count": null,
   "metadata": {},
   "outputs": [],
   "source": []
  },
  {
   "cell_type": "code",
   "execution_count": null,
   "metadata": {},
   "outputs": [],
   "source": []
  },
  {
   "cell_type": "code",
   "execution_count": null,
   "metadata": {},
   "outputs": [],
   "source": []
  },
  {
   "cell_type": "code",
   "execution_count": null,
   "metadata": {},
   "outputs": [],
   "source": []
  },
  {
   "cell_type": "markdown",
   "metadata": {},
   "source": [
    "## train as https://dataplatform.cloud.ibm.com/docs/content/analyze-data/ml-python-mnist-tutorial.html?context=analytics"
   ]
  },
  {
   "cell_type": "code",
   "execution_count": 16,
   "metadata": {},
   "outputs": [],
   "source": [
    "#training config\n",
    "metadata = {\n",
    "    client.repository.DefinitionMetaNames.NAME              : \"python-client-tutorial_training-definition\",\n",
    "    client.repository.DefinitionMetaNames.AUTHOR_EMAIL      : \"wk821917@163.com\",\n",
    "    client.repository.DefinitionMetaNames.FRAMEWORK_NAME    : \"tensorflow\",\n",
    "    client.repository.DefinitionMetaNames.FRAMEWORK_VERSION : \"1.5\",\n",
    "    client.repository.DefinitionMetaNames.RUNTIME_NAME      : \"python\",\n",
    "    client.repository.DefinitionMetaNames.RUNTIME_VERSION   : \"3.5\",\n",
    "    client.repository.DefinitionMetaNames.EXECUTION_COMMAND : \"python3 My_Call_For_Code_Pro-master/lstmtest.py\"\n",
    "}"
   ]
  },
  {
   "cell_type": "code",
   "execution_count": 17,
   "metadata": {},
   "outputs": [],
   "source": [
    "!rm master.zip"
   ]
  },
  {
   "cell_type": "code",
   "execution_count": 18,
   "metadata": {},
   "outputs": [],
   "source": [
    "!rm -r My_Call_For_Code_Pro-master/"
   ]
  },
  {
   "cell_type": "code",
   "execution_count": 19,
   "metadata": {},
   "outputs": [
    {
     "name": "stdout",
     "output_type": "stream",
     "text": [
      "--2018-08-27 17:42:47--  https://github.com/wk821917/My_Call_For_Code_Pro/archive/master.zip\n",
      "正在连接 127.0.0.1:8118... 已连接。\n",
      "已发出 Proxy 请求，正在等待回应... 302 Found\n",
      "位置：https://codeload.github.com/wk821917/My_Call_For_Code_Pro/zip/master [跟随至新的 URL]\n",
      "--2018-08-27 17:42:48--  https://codeload.github.com/wk821917/My_Call_For_Code_Pro/zip/master\n",
      "正在连接 127.0.0.1:8118... 已连接。\n",
      "已发出 Proxy 请求，正在等待回应... 200 OK\n",
      "长度： 未指定 [application/zip]\n",
      "正在保存至: “master.zip”\n",
      "\n",
      "master.zip              [          <=>       ] 344.20K   129KB/s    in 2.7s    \n",
      "\n",
      "2018-08-27 17:42:51 (129 KB/s) - “master.zip” 已保存 [352461]\n",
      "\n"
     ]
    }
   ],
   "source": [
    "#download the code or data from github\n",
    "!wget https://github.com/wk821917/My_Call_For_Code_Pro/archive/master.zip"
   ]
  },
  {
   "cell_type": "code",
   "execution_count": 20,
   "metadata": {},
   "outputs": [
    {
     "name": "stdout",
     "output_type": "stream",
     "text": [
      "classifier_test.ipynb  IBM_ML_KMeans_Test.ipynb  master.zip\t runid.json\r\n",
      "Create_model.ipynb     lstm_pred_pro.py\t\t predict_script  water-tilt.csv\r\n",
      "download_script        lstmtest.py\t\t README.md\r\n"
     ]
    }
   ],
   "source": [
    "!ls"
   ]
  },
  {
   "cell_type": "code",
   "execution_count": 21,
   "metadata": {},
   "outputs": [
    {
     "name": "stdout",
     "output_type": "stream",
     "text": [
      "Archive:  master.zip\r\n",
      "c960faf98192d5387621edc0e389c8f56fdd2b4f\r\n",
      "   creating: My_Call_For_Code_Pro-master/\r\n",
      "  inflating: My_Call_For_Code_Pro-master/Create_model.ipynb  \r\n",
      "  inflating: My_Call_For_Code_Pro-master/IBM_ML_KMeans_Test.ipynb  \r\n",
      "  inflating: My_Call_For_Code_Pro-master/README.md  \r\n",
      "  inflating: My_Call_For_Code_Pro-master/classifier_test.ipynb  \r\n",
      "   creating: My_Call_For_Code_Pro-master/download_script/\r\n",
      "  inflating: My_Call_For_Code_Pro-master/download_script/downloadfile.py  \r\n",
      "  inflating: My_Call_For_Code_Pro-master/lstm_pred_pro.py  \r\n",
      "  inflating: My_Call_For_Code_Pro-master/lstmtest.py  \r\n",
      "   creating: My_Call_For_Code_Pro-master/predict_script/\r\n",
      " extracting: My_Call_For_Code_Pro-master/predict_script/last_time.json  \r\n",
      "  inflating: My_Call_For_Code_Pro-master/predict_script/predict_script.py  \r\n",
      "  inflating: My_Call_For_Code_Pro-master/water-tilt.csv  \r\n"
     ]
    }
   ],
   "source": [
    "!unzip master"
   ]
  },
  {
   "cell_type": "code",
   "execution_count": 22,
   "metadata": {},
   "outputs": [
    {
     "name": "stdout",
     "output_type": "stream",
     "text": [
      "import matplotlib\r\n",
      "matplotlib.use('Agg')\r\n",
      "import numpy as np\r\n",
      "import pandas as pd\r\n",
      "from pandas import Series,DataFrame\r\n",
      "import re \r\n",
      "import os\r\n",
      "from os import environ\r\n",
      "from matplotlib import pyplot as plt\r\n",
      "import matplotlib.gridspec as gridspec\r\n",
      "\r\n",
      "from keras import backend as K\r\n",
      "K.clear_session()\r\n",
      "from keras.models import Model,Sequential\r\n",
      "from keras.layers import Input, Dense, Flatten, Dropout, Activation\r\n",
      "from keras.layers import LSTM, SimpleRNN,LeakyReLU\r\n",
      "from keras.callbacks import LearningRateScheduler, ModelCheckpoint, TensorBoard\r\n",
      "from keras import regularizers\r\n",
      "\r\n",
      "'''\r\n",
      "with the input_step_size and output_size ,you can define the number of predict and previuos data when the model deployed\r\n",
      "'''\r\n",
      "# data = pd.read_csv('wktest-master/water-tilt.csv')  #load data\r\n",
      "data = pd.read_csv('My_Call_For_Code_Pro-master/water-tilt.csv')  #load data\r\n",
      "input_step_size = 50  #data transform input shape \r\n",
      "output_size = 10   #data transform output shap\r\n",
      "\r\n",
      "'''\r\n",
      "get WML environment and define the out_path\r\n",
      "'''\r\n",
      "model_filename = \"lstm.json\"\r\n",
      "picname = 'pred_act.png'\r\n",
      "weight_file = 'weight.hdf5'\r\n",
      "\r\n",
      "if environ.get('RESULT_DIR') is not None:\r\n",
      "    output_model_folder = os.path.join(os.environ[\"RESULT_DIR\"], \"model\")\r\n",
      "    output_model_path = os.path.join(output_model_folder, model_filename)\r\n",
      "    output_pic_folder = os.path.join(os.environ[\"RESULT_DIR\"], \"picture\")\r\n",
      "    output_pic_path = os.path.join(output_pic_folder, picname)\r\n",
      "    output_weight_folder = os.path.join(os.environ[\"RESULT_DIR\"], \"weight\")\r\n",
      "    output_weight_path = os.path.join(output_weight_folder, weight_file)    \r\n",
      "else:\r\n",
      "    output_model_folder = \"model\"\r\n",
      "    output_model_path = os.path.join(\"model\", model_filename)\r\n",
      "    output_pic_folder = \"picture\"\r\n",
      "    output_pic_path = os.path.join(\"picture\", picname)\r\n",
      "    output_weight_folder = \"weight\"\r\n",
      "    output_weight_path = os.path.join(\"weight\", weight_file)\r\n",
      "\r\n",
      "os.makedirs(output_model_folder, exist_ok=True)\r\n",
      "os.makedirs(output_pic_folder, exist_ok=True)\r\n",
      "os.makedirs(output_weight_folder, exist_ok=True)\r\n",
      "\r\n",
      "'''\r\n",
      "transform datasets return x_train, y_train, x_val, y_val, x_test, y_test\r\n",
      "'''\r\n",
      "def dataset_setup(data):\r\n",
      "    data = np.array(data)\r\n",
      "    inputs = []\r\n",
      "    outputs = []\r\n",
      "    for i in range(len(data)-input_step_size-output_size):\r\n",
      "        inputs.append(data[i:i + input_step_size])   #\r\n",
      "        outputs.append(data[i + input_step_size: i + input_step_size+ output_size])\r\n",
      "    inputs = np.array(inputs)\r\n",
      "    outputs = np.array(outputs)\r\n",
      "    size1 = int(0.8*inputs.shape[0])\r\n",
      "    size2 = int(0.9*inputs.shape[0])\r\n",
      "    x_train  = inputs[:size1,:]\r\n",
      "    y_train = outputs[:size1,:,-1]\r\n",
      "    x_val = inputs[size1:size2,:]\r\n",
      "    y_val = outputs[size1:size2,:,-1]\r\n",
      "    x_test = inputs[size2:,:]\r\n",
      "    y_test = outputs[size2:,:,-1]\r\n",
      "    plt.figure(figsize=(100,10))\r\n",
      "    plt.plot(DataFrame(data))\r\n",
      "    plt.savefig('./out_th.png')\r\n",
      "    plt.clf()\r\n",
      "    return x_train, y_train, x_val, y_val, x_test, y_test\r\n",
      "\r\n",
      "'''\r\n",
      "create model with three lstm layer \r\n",
      "'''\r\n",
      "def create_model(x_train):\r\n",
      "    m_inputs = Input(shape=(x_train.shape[1],x_train.shape[2]))\r\n",
      "    lstm1 = LSTM(units=128, return_sequences=True)(m_inputs)#128\r\n",
      "    lstm2 = LSTM(units=64,return_sequences=True)(lstm1)#64\r\n",
      "    lstm3 = LSTM(units=32,return_sequences=True)(lstm2)#32\r\n",
      "    fa = Flatten()(lstm3)\r\n",
      "    out = Dense(10)(fa)\r\n",
      "    model = Model(m_inputs,out)\r\n",
      "    model.compile(loss='mae', optimizer='adam')\r\n",
      "    return model\r\n",
      "\r\n",
      "'''\r\n",
      "train and save the model,plot the result and save as a png file\r\n",
      "'''\r\n",
      "def train_and_test_model(model,x_train, y_train, x_val, y_val, x_test, y_test):\r\n",
      "    learn_rate = lambda epoch: 0.0001 if epoch < 10 else 0.00001\r\n",
      "    callbacks = [LearningRateScheduler(learn_rate)]\r\n",
      "    callbacks.append(ModelCheckpoint(filepath=output_weight_path, monitor='val_loss', save_best_only=True))\t\r\n",
      "    history = model.fit(x_train, y_train, epochs=50, batch_size=16, validation_data=(x_val, y_val), verbose=1, shuffle=False, callbacks=callbacks)\r\n",
      "    json_string = model.to_json()\r\n",
      "    with open(output_model_path, \"w\") as f:\r\n",
      "        f.write(json_string)\r\n",
      "    plt.plot(history.history['loss'], label='train')\r\n",
      "    plt.plot(history.history['val_loss'], label='val')\r\n",
      "    plt.legend()\r\n",
      "    plt.savefig(os.path.join(output_pic_folder,'loss.png'))\r\n",
      "    y_pred = model.predict(x_test)\r\n",
      "    x = [i for i in range(y_pred.shape[0])]\r\n",
      "    ax1 = plt.subplot(211)\r\n",
      "    ax1.set_title('predict')\r\n",
      "    ax1.plot(x,y_pred[:,0])\r\n",
      "    ax2=plt.subplot(212)\r\n",
      "    ax2.set_title('active')\r\n",
      "    ax2.plot(x,y_test[:,0])\r\n",
      "    plt.tight_layout(2)\r\n",
      "    plt.savefig(output_pic_path)\r\n",
      "\r\n",
      "\r\n",
      "if __name__ == '__main__':\r\n",
      "    x_train, y_train, x_val, y_val, x_test, y_test = dataset_setup(data.iloc[:,1:])\r\n",
      "    model = create_model(x_train)\r\n",
      "    train_and_test_model(model,x_train, y_train, x_val, y_val, x_test, y_test)\r\n",
      "\r\n"
     ]
    }
   ],
   "source": [
    "!cat My_Call_For_Code_Pro-master/lstmtest.py"
   ]
  },
  {
   "cell_type": "code",
   "execution_count": 23,
   "metadata": {
    "scrolled": true
   },
   "outputs": [
    {
     "name": "stderr",
     "output_type": "stream",
     "text": [
      "2018-08-27 17:42:52,187 - watson_machine_learning_client.metanames - WARNING - 'AUTHOR_EMAIL' meta prop is deprecated. It will be ignored.\n"
     ]
    },
    {
     "name": "stdout",
     "output_type": "stream",
     "text": [
      "definition_uid:  2ff81121-5968-42a3-9c3f-6d3d7164dc1b\n"
     ]
    }
   ],
   "source": [
    "#define the tain_file and the training_id,the zip file must \n",
    "definition_details = client.repository.store_definition( \"master.zip\", meta_props=metadata )\n",
    "definition_uid     = client.repository.get_definition_uid( definition_details )\n",
    "print( \"definition_uid: \", definition_uid )"
   ]
  },
  {
   "cell_type": "code",
   "execution_count": 24,
   "metadata": {},
   "outputs": [],
   "source": [
    "#define training_dir and result dir\n",
    "#the  \"aws_access_key_id\" and \"aws_secret_access_key\" is the same as the one in the COS credentials\n",
    "#the  \"endpoint_url\" can be found at COS 'Eendpoint' channel\n",
    "metadata = {\n",
    "client.training.ConfigurationMetaNames.NAME         : \"python-client-tutorial_training-run\",\n",
    "client.training.ConfigurationMetaNames.AUTHOR_EMAIL : \"wk281917@163.com\",\n",
    "client.training.ConfigurationMetaNames.TRAINING_DATA_REFERENCE : {\n",
    "   \"connection\" : { \n",
    "      \"endpoint_url\"          : \"https://s3-api.us-geo.objectstorage.softlayer.net\",\n",
    "      \"aws_access_key_id\"     : \"f1ac76f0074244f9a07d5debb286f122\",\n",
    "      \"aws_secret_access_key\" : \"c623bb131af41897c674eec7f7700446fdbeecf6c993d105\"\n",
    "      },\n",
    "   \"source\" : { \n",
    "      \"bucket\" : \"wktest1\",\n",
    "      },\n",
    "      \"type\" : \"s3\"\n",
    "   },\n",
    "client.training.ConfigurationMetaNames.TRAINING_RESULTS_REFERENCE: {\n",
    "   \"connection\" : {\n",
    "      \"endpoint_url\"          : \"https://s3-api.us-geo.objectstorage.softlayer.net\",\n",
    "      \"aws_access_key_id\"     : \"f1ac76f0074244f9a07d5debb286f122\",\n",
    "      \"aws_secret_access_key\" : \"c623bb131af41897c674eec7f7700446fdbeecf6c993d105\"\n",
    "      },\n",
    "      \"target\" : {\n",
    "         \"bucket\" : \"wktest2\",\n",
    "      },\n",
    "      \"type\" : \"s3\"\n",
    "   }\n",
    "}"
   ]
  },
  {
   "cell_type": "code",
   "execution_count": 25,
   "metadata": {
    "scrolled": true
   },
   "outputs": [
    {
     "name": "stderr",
     "output_type": "stream",
     "text": [
      "2018-08-27 17:42:58,990 - watson_machine_learning_client.metanames - WARNING - 'AUTHOR_EMAIL' meta prop is deprecated. It will be ignored.\n"
     ]
    },
    {
     "name": "stdout",
     "output_type": "stream",
     "text": [
      "run_uid:  training-iym0GRhig\n"
     ]
    }
   ],
   "source": [
    "#run the train_file with a training_id create\n",
    "run_details = client.training.run( definition_uid, meta_props=metadata )\n",
    "run_uid     = client.training.get_run_uid( run_details )\n",
    "print( \"run_uid: \", run_uid )"
   ]
  },
  {
   "cell_type": "code",
   "execution_count": 26,
   "metadata": {},
   "outputs": [],
   "source": [
    "import json\n",
    "model={\"run_uid\":run_uid} #数据\n",
    "with open(\"./runid.json\",'w',encoding='utf-8') as json_file:\n",
    "    json.dump(model,json_file,ensure_ascii=False)"
   ]
  },
  {
   "cell_type": "code",
   "execution_count": 27,
   "metadata": {
    "scrolled": true
   },
   "outputs": [
    {
     "name": "stdout",
     "output_type": "stream",
     "text": [
      "{'current_at': '2018-08-27T09:43:05Z', 'metrics': [], 'state': 'pending', 'submitted_at': '2018-08-27T09:43:05Z'}\n",
      "{'current_at': '2018-08-27T09:43:36Z', 'metrics': [], 'state': 'pending', 'submitted_at': '2018-08-27T09:43:05Z'}\n",
      "{'current_at': '2018-08-27T09:44:17Z', 'running_at': '2018-08-27T09:43:42Z', 'state': 'running', 'submitted_at': '2018-08-27T09:43:05Z', 'metrics': []}\n",
      "{'current_at': '2018-08-27T09:44:47Z', 'running_at': '2018-08-27T09:43:42Z', 'state': 'running', 'submitted_at': '2018-08-27T09:43:05Z', 'metrics': []}\n",
      "{'current_at': '2018-08-27T09:45:18Z', 'running_at': '2018-08-27T09:43:42Z', 'state': 'running', 'submitted_at': '2018-08-27T09:43:05Z', 'metrics': []}\n",
      "{'current_at': '2018-08-27T09:45:58Z', 'running_at': '2018-08-27T09:43:42Z', 'state': 'running', 'submitted_at': '2018-08-27T09:43:05Z', 'metrics': []}\n",
      "{'current_at': '2018-08-27T09:46:29Z', 'running_at': '2018-08-27T09:43:42Z', 'state': 'running', 'submitted_at': '2018-08-27T09:43:05Z', 'metrics': []}\n",
      "{'current_at': '2018-08-27T09:47:10Z', 'running_at': '2018-08-27T09:43:42Z', 'state': 'running', 'submitted_at': '2018-08-27T09:43:05Z', 'metrics': []}\n",
      "{'current_at': '2018-08-27T09:47:40Z', 'running_at': '2018-08-27T09:43:42Z', 'state': 'running', 'submitted_at': '2018-08-27T09:43:05Z', 'metrics': []}\n",
      "{'message': '7840/9801 [======================>.......] - ETA: 22s - loss: 0.0089\\n', 'running_at': '2018-08-27T09:43:42Z', 'state': 'running', 'metrics': [], 'current_at': '2018-08-27T09:48:04Z', 'submitted_at': '2018-08-27T09:43:05Z'}\n",
      "{'current_at': '2018-08-27T09:48:51Z', 'running_at': '2018-08-27T09:43:42Z', 'state': 'running', 'submitted_at': '2018-08-27T09:43:05Z', 'metrics': []}\n",
      "{'current_at': '2018-08-27T09:49:22Z', 'running_at': '2018-08-27T09:43:42Z', 'state': 'running', 'submitted_at': '2018-08-27T09:43:05Z', 'metrics': []}\n",
      "{'current_at': '2018-08-27T09:49:52Z', 'running_at': '2018-08-27T09:43:42Z', 'state': 'running', 'submitted_at': '2018-08-27T09:43:05Z', 'metrics': []}\n",
      "{'current_at': '2018-08-27T09:50:33Z', 'running_at': '2018-08-27T09:43:42Z', 'state': 'running', 'submitted_at': '2018-08-27T09:43:05Z', 'metrics': []}\n",
      "{'current_at': '2018-08-27T09:51:04Z', 'running_at': '2018-08-27T09:43:42Z', 'state': 'running', 'submitted_at': '2018-08-27T09:43:05Z', 'metrics': []}\n",
      "{'current_at': '2018-08-27T09:51:44Z', 'running_at': '2018-08-27T09:43:42Z', 'state': 'running', 'submitted_at': '2018-08-27T09:43:05Z', 'metrics': []}\n",
      "{'current_at': '2018-08-27T09:52:25Z', 'running_at': '2018-08-27T09:43:42Z', 'state': 'running', 'submitted_at': '2018-08-27T09:43:05Z', 'metrics': []}\n",
      "{'current_at': '2018-08-27T09:52:55Z', 'running_at': '2018-08-27T09:43:42Z', 'state': 'running', 'submitted_at': '2018-08-27T09:43:05Z', 'metrics': []}\n",
      "{'current_at': '2018-08-27T09:53:26Z', 'running_at': '2018-08-27T09:43:42Z', 'state': 'running', 'submitted_at': '2018-08-27T09:43:05Z', 'metrics': []}\n",
      "{'current_at': '2018-08-27T09:54:07Z', 'running_at': '2018-08-27T09:43:42Z', 'state': 'running', 'submitted_at': '2018-08-27T09:43:05Z', 'metrics': []}\n",
      "{'current_at': '2018-08-27T09:54:37Z', 'running_at': '2018-08-27T09:43:42Z', 'state': 'running', 'submitted_at': '2018-08-27T09:43:05Z', 'metrics': []}\n",
      "{'current_at': '2018-08-27T09:55:08Z', 'running_at': '2018-08-27T09:43:42Z', 'state': 'running', 'submitted_at': '2018-08-27T09:43:05Z', 'metrics': []}\n",
      "{'current_at': '2018-08-27T09:55:49Z', 'running_at': '2018-08-27T09:43:42Z', 'state': 'running', 'submitted_at': '2018-08-27T09:43:05Z', 'metrics': []}\n",
      "{'current_at': '2018-08-27T09:56:19Z', 'running_at': '2018-08-27T09:43:42Z', 'state': 'running', 'submitted_at': '2018-08-27T09:43:05Z', 'metrics': []}\n",
      "{'current_at': '2018-08-27T09:56:50Z', 'running_at': '2018-08-27T09:43:42Z', 'state': 'running', 'submitted_at': '2018-08-27T09:43:05Z', 'metrics': []}\n",
      "{'current_at': '2018-08-27T09:57:30Z', 'running_at': '2018-08-27T09:43:42Z', 'state': 'running', 'submitted_at': '2018-08-27T09:43:05Z', 'metrics': []}\n",
      "{'current_at': '2018-08-27T09:58:01Z', 'running_at': '2018-08-27T09:43:42Z', 'state': 'running', 'submitted_at': '2018-08-27T09:43:05Z', 'metrics': []}\n",
      "{'current_at': '2018-08-27T09:58:31Z', 'running_at': '2018-08-27T09:43:42Z', 'state': 'running', 'submitted_at': '2018-08-27T09:43:05Z', 'metrics': []}\n",
      "{'current_at': '2018-08-27T09:59:12Z', 'running_at': '2018-08-27T09:43:42Z', 'state': 'running', 'submitted_at': '2018-08-27T09:43:05Z', 'metrics': []}\n",
      "{'current_at': '2018-08-27T09:59:43Z', 'running_at': '2018-08-27T09:43:42Z', 'state': 'running', 'submitted_at': '2018-08-27T09:43:05Z', 'metrics': []}\n",
      "{'current_at': '2018-08-27T10:00:23Z', 'running_at': '2018-08-27T09:43:42Z', 'state': 'running', 'submitted_at': '2018-08-27T09:43:05Z', 'metrics': []}\n",
      "{'current_at': '2018-08-27T10:00:54Z', 'running_at': '2018-08-27T09:43:42Z', 'state': 'running', 'submitted_at': '2018-08-27T09:43:05Z', 'metrics': []}\n",
      "{'current_at': '2018-08-27T10:01:24Z', 'running_at': '2018-08-27T09:43:42Z', 'state': 'running', 'submitted_at': '2018-08-27T09:43:05Z', 'metrics': []}\n",
      "{'current_at': '2018-08-27T10:02:05Z', 'running_at': '2018-08-27T09:43:42Z', 'state': 'running', 'submitted_at': '2018-08-27T09:43:05Z', 'metrics': []}\n",
      "{'current_at': '2018-08-27T10:02:36Z', 'running_at': '2018-08-27T09:43:42Z', 'state': 'running', 'submitted_at': '2018-08-27T09:43:05Z', 'metrics': []}\n",
      "{'current_at': '2018-08-27T10:03:06Z', 'running_at': '2018-08-27T09:43:42Z', 'state': 'running', 'submitted_at': '2018-08-27T09:43:05Z', 'metrics': []}\n",
      "{'current_at': '2018-08-27T10:03:47Z', 'running_at': '2018-08-27T09:43:42Z', 'state': 'running', 'submitted_at': '2018-08-27T09:43:05Z', 'metrics': []}\n",
      "{'current_at': '2018-08-27T10:04:18Z', 'running_at': '2018-08-27T09:43:42Z', 'state': 'running', 'submitted_at': '2018-08-27T09:43:05Z', 'metrics': []}\n",
      "{'current_at': '2018-08-27T10:04:48Z', 'running_at': '2018-08-27T09:43:42Z', 'state': 'running', 'submitted_at': '2018-08-27T09:43:05Z', 'metrics': []}\n",
      "{'current_at': '2018-08-27T10:05:29Z', 'running_at': '2018-08-27T09:43:42Z', 'state': 'running', 'submitted_at': '2018-08-27T09:43:05Z', 'metrics': []}\n",
      "{'current_at': '2018-08-27T10:06:00Z', 'running_at': '2018-08-27T09:43:42Z', 'state': 'running', 'submitted_at': '2018-08-27T09:43:05Z', 'metrics': []}\n",
      "{'current_at': '2018-08-27T10:06:30Z', 'running_at': '2018-08-27T09:43:42Z', 'state': 'running', 'submitted_at': '2018-08-27T09:43:05Z', 'metrics': []}\n",
      "{'current_at': '2018-08-27T10:07:11Z', 'running_at': '2018-08-27T09:43:42Z', 'state': 'running', 'submitted_at': '2018-08-27T09:43:05Z', 'metrics': []}\n",
      "{'current_at': '2018-08-27T10:07:41Z', 'running_at': '2018-08-27T09:43:42Z', 'state': 'running', 'submitted_at': '2018-08-27T09:43:05Z', 'metrics': []}\n",
      "{'current_at': '2018-08-27T10:08:22Z', 'running_at': '2018-08-27T09:43:42Z', 'state': 'running', 'submitted_at': '2018-08-27T09:43:05Z', 'metrics': []}\n",
      "{'current_at': '2018-08-27T10:08:53Z', 'running_at': '2018-08-27T09:43:42Z', 'state': 'running', 'submitted_at': '2018-08-27T09:43:05Z', 'metrics': []}\n",
      "{'current_at': '2018-08-27T10:09:23Z', 'running_at': '2018-08-27T09:43:42Z', 'state': 'running', 'submitted_at': '2018-08-27T09:43:05Z', 'metrics': []}\n",
      "{'current_at': '2018-08-27T10:10:04Z', 'running_at': '2018-08-27T09:43:42Z', 'state': 'running', 'submitted_at': '2018-08-27T09:43:05Z', 'metrics': []}\n",
      "{'current_at': '2018-08-27T10:10:35Z', 'running_at': '2018-08-27T09:43:42Z', 'state': 'running', 'submitted_at': '2018-08-27T09:43:05Z', 'metrics': []}\n",
      "{'message': '\\n', 'running_at': '2018-08-27T09:43:42Z', 'state': 'running', 'metrics': [], 'current_at': '2018-08-27T10:11:04Z', 'submitted_at': '2018-08-27T09:43:05Z'}\n",
      "{'current_at': '2018-08-27T10:11:46Z', 'running_at': '2018-08-27T09:43:42Z', 'state': 'running', 'submitted_at': '2018-08-27T09:43:05Z', 'metrics': []}\n",
      "{'current_at': '2018-08-27T10:12:16Z', 'running_at': '2018-08-27T09:43:42Z', 'state': 'running', 'submitted_at': '2018-08-27T09:43:05Z', 'metrics': []}\n",
      "{'current_at': '2018-08-27T10:12:47Z', 'running_at': '2018-08-27T09:43:42Z', 'state': 'running', 'submitted_at': '2018-08-27T09:43:05Z', 'metrics': []}\n",
      "{'current_at': '2018-08-27T10:13:28Z', 'running_at': '2018-08-27T09:43:42Z', 'state': 'running', 'submitted_at': '2018-08-27T09:43:05Z', 'metrics': []}\n"
     ]
    },
    {
     "name": "stdout",
     "output_type": "stream",
     "text": [
      "{'current_at': '2018-08-27T10:13:58Z', 'running_at': '2018-08-27T09:43:42Z', 'state': 'running', 'submitted_at': '2018-08-27T09:43:05Z', 'metrics': []}\n",
      "{'current_at': '2018-08-27T10:14:28Z', 'running_at': '2018-08-27T09:43:42Z', 'state': 'running', 'submitted_at': '2018-08-27T09:43:05Z', 'metrics': []}\n",
      "{'current_at': '2018-08-27T10:15:09Z', 'running_at': '2018-08-27T09:43:42Z', 'state': 'running', 'submitted_at': '2018-08-27T09:43:05Z', 'metrics': []}\n",
      "{'current_at': '2018-08-27T10:15:40Z', 'running_at': '2018-08-27T09:43:42Z', 'state': 'running', 'submitted_at': '2018-08-27T09:43:05Z', 'metrics': []}\n",
      "{'current_at': '2018-08-27T10:16:31Z', 'running_at': '2018-08-27T09:43:42Z', 'state': 'running', 'submitted_at': '2018-08-27T09:43:05Z', 'metrics': []}\n",
      "{'current_at': '2018-08-27T10:17:11Z', 'running_at': '2018-08-27T09:43:42Z', 'state': 'running', 'submitted_at': '2018-08-27T09:43:05Z', 'metrics': []}\n",
      "{'current_at': '2018-08-27T10:17:42Z', 'running_at': '2018-08-27T09:43:42Z', 'state': 'running', 'submitted_at': '2018-08-27T09:43:05Z', 'metrics': []}\n",
      "{'current_at': '2018-08-27T10:18:13Z', 'running_at': '2018-08-27T09:43:42Z', 'state': 'running', 'submitted_at': '2018-08-27T09:43:05Z', 'metrics': []}\n",
      "{'current_at': '2018-08-27T10:18:53Z', 'running_at': '2018-08-27T09:43:42Z', 'state': 'running', 'submitted_at': '2018-08-27T09:43:05Z', 'metrics': []}\n",
      "{'current_at': '2018-08-27T10:19:24Z', 'running_at': '2018-08-27T09:43:42Z', 'state': 'running', 'submitted_at': '2018-08-27T09:43:05Z', 'metrics': []}\n",
      "{'current_at': '2018-08-27T10:19:54Z', 'running_at': '2018-08-27T09:43:42Z', 'state': 'running', 'submitted_at': '2018-08-27T09:43:05Z', 'metrics': []}\n",
      "{'current_at': '2018-08-27T10:20:35Z', 'running_at': '2018-08-27T09:43:42Z', 'state': 'running', 'submitted_at': '2018-08-27T09:43:05Z', 'metrics': []}\n",
      "{'current_at': '2018-08-27T10:21:05Z', 'running_at': '2018-08-27T09:43:42Z', 'state': 'running', 'submitted_at': '2018-08-27T09:43:05Z', 'metrics': []}\n",
      "{'message': '4672/9801 [=============>................] - ETA: 56s - loss: 0.0074\\n', 'running_at': '2018-08-27T09:43:42Z', 'state': 'running', 'metrics': [], 'current_at': '2018-08-27T10:21:41Z', 'submitted_at': '2018-08-27T09:43:05Z'}\n",
      "{'current_at': '2018-08-27T10:22:17Z', 'running_at': '2018-08-27T09:43:42Z', 'state': 'running', 'submitted_at': '2018-08-27T09:43:05Z', 'metrics': []}\n",
      "{'current_at': '2018-08-27T10:22:47Z', 'running_at': '2018-08-27T09:43:42Z', 'state': 'running', 'submitted_at': '2018-08-27T09:43:05Z', 'metrics': []}\n",
      "{'current_at': '2018-08-27T10:23:28Z', 'running_at': '2018-08-27T09:43:42Z', 'state': 'running', 'submitted_at': '2018-08-27T09:43:05Z', 'metrics': []}\n",
      "{'current_at': '2018-08-27T10:23:58Z', 'running_at': '2018-08-27T09:43:42Z', 'state': 'running', 'submitted_at': '2018-08-27T09:43:05Z', 'metrics': []}\n",
      "{'current_at': '2018-08-27T10:24:29Z', 'running_at': '2018-08-27T09:43:42Z', 'state': 'running', 'submitted_at': '2018-08-27T09:43:05Z', 'metrics': []}\n",
      "{'current_at': '2018-08-27T10:25:10Z', 'running_at': '2018-08-27T09:43:42Z', 'state': 'running', 'submitted_at': '2018-08-27T09:43:05Z', 'metrics': []}\n",
      "{'current_at': '2018-08-27T10:25:50Z', 'running_at': '2018-08-27T09:43:42Z', 'state': 'running', 'submitted_at': '2018-08-27T09:43:05Z', 'metrics': []}\n",
      "{'current_at': '2018-08-27T10:26:31Z', 'running_at': '2018-08-27T09:43:42Z', 'state': 'running', 'submitted_at': '2018-08-27T09:43:05Z', 'metrics': []}\n",
      "{'current_at': '2018-08-27T10:27:11Z', 'running_at': '2018-08-27T09:43:42Z', 'state': 'running', 'submitted_at': '2018-08-27T09:43:05Z', 'metrics': []}\n"
     ]
    },
    {
     "name": "stderr",
     "output_type": "stream",
     "text": [
      "2018-08-27 18:27:50,412 - ibm_botocore.credentials - WARNING - Refreshing temporary credentials failed during advisory refresh period.\n",
      "Traceback (most recent call last):\n",
      "  File \"/usr/lib/python3/dist-packages/urllib3/connectionpool.py\", line 555, in urlopen\n",
      "    self._prepare_proxy(conn)\n",
      "  File \"/usr/lib/python3/dist-packages/urllib3/connectionpool.py\", line 753, in _prepare_proxy\n",
      "    conn.connect()\n",
      "  File \"/usr/lib/python3/dist-packages/urllib3/connection.py\", line 252, in connect\n",
      "    ssl_version=resolved_ssl_version)\n",
      "  File \"/usr/lib/python3/dist-packages/urllib3/util/ssl_.py\", line 305, in ssl_wrap_socket\n",
      "    return context.wrap_socket(sock, server_hostname=server_hostname)\n",
      "  File \"/usr/lib/python3.5/ssl.py\", line 377, in wrap_socket\n",
      "    _context=self)\n",
      "  File \"/usr/lib/python3.5/ssl.py\", line 752, in __init__\n",
      "    self.do_handshake()\n",
      "  File \"/usr/lib/python3.5/ssl.py\", line 988, in do_handshake\n",
      "    self._sslobj.do_handshake()\n",
      "  File \"/usr/lib/python3.5/ssl.py\", line 633, in do_handshake\n",
      "    self._sslobj.do_handshake()\n",
      "socket.timeout: _ssl.c:629: The handshake operation timed out\n",
      "\n",
      "During handling of the above exception, another exception occurred:\n",
      "\n",
      "Traceback (most recent call last):\n",
      "  File \"/usr/lib/python3/dist-packages/requests/adapters.py\", line 376, in send\n",
      "    timeout=timeout\n",
      "  File \"/usr/lib/python3/dist-packages/urllib3/connectionpool.py\", line 610, in urlopen\n",
      "    _stacktrace=sys.exc_info()[2])\n",
      "  File \"/usr/lib/python3/dist-packages/urllib3/util/retry.py\", line 273, in increment\n",
      "    raise MaxRetryError(_pool, url, error or ResponseError(cause))\n",
      "requests.packages.urllib3.exceptions.MaxRetryError: HTTPSConnectionPool(host='iam.bluemix.net', port=443): Max retries exceeded with url: /oidc/token (Caused by ProxyError('Cannot connect to proxy.', timeout('_ssl.c:629: The handshake operation timed out',)))\n",
      "\n",
      "During handling of the above exception, another exception occurred:\n",
      "\n",
      "Traceback (most recent call last):\n",
      "  File \"/usr/local/lib/python3.5/dist-packages/ibm_botocore/credentials.py\", line 550, in _protected_refresh\n",
      "    metadata = self.auth_function()\n",
      "  File \"/usr/local/lib/python3.5/dist-packages/ibm_botocore/credentials.py\", line 458, in _default_auth_function\n",
      "    verify=self.get_verify())\n",
      "  File \"/usr/lib/python3/dist-packages/requests/api.py\", line 107, in post\n",
      "    return request('post', url, data=data, json=json, **kwargs)\n",
      "  File \"/usr/lib/python3/dist-packages/requests/api.py\", line 53, in request\n",
      "    return session.request(method=method, url=url, **kwargs)\n",
      "  File \"/usr/lib/python3/dist-packages/requests/sessions.py\", line 468, in request\n",
      "    resp = self.send(prep, **send_kwargs)\n",
      "  File \"/usr/lib/python3/dist-packages/requests/sessions.py\", line 576, in send\n",
      "    r = adapter.send(request, **kwargs)\n",
      "  File \"/usr/lib/python3/dist-packages/requests/adapters.py\", line 437, in send\n",
      "    raise ConnectionError(e, request=request)\n",
      "requests.exceptions.ConnectionError: HTTPSConnectionPool(host='iam.bluemix.net', port=443): Max retries exceeded with url: /oidc/token (Caused by ProxyError('Cannot connect to proxy.', timeout('_ssl.c:629: The handshake operation timed out',)))\n"
     ]
    },
    {
     "name": "stdout",
     "output_type": "stream",
     "text": [
      "{'current_at': '2018-08-27T10:27:52Z', 'running_at': '2018-08-27T09:43:42Z', 'state': 'running', 'submitted_at': '2018-08-27T09:43:05Z', 'metrics': []}\n",
      "{'current_at': '2018-08-27T10:28:33Z', 'running_at': '2018-08-27T09:43:42Z', 'state': 'running', 'submitted_at': '2018-08-27T09:43:05Z', 'metrics': []}\n",
      "{'current_at': '2018-08-27T10:29:03Z', 'running_at': '2018-08-27T09:43:42Z', 'state': 'running', 'submitted_at': '2018-08-27T09:43:05Z', 'metrics': []}\n",
      "{'current_at': '2018-08-27T10:29:44Z', 'running_at': '2018-08-27T09:43:42Z', 'state': 'running', 'submitted_at': '2018-08-27T09:43:05Z', 'metrics': []}\n",
      "{'current_at': '2018-08-27T10:30:25Z', 'running_at': '2018-08-27T09:43:42Z', 'state': 'running', 'submitted_at': '2018-08-27T09:43:05Z', 'metrics': []}\n",
      "{'current_at': '2018-08-27T10:31:05Z', 'running_at': '2018-08-27T09:43:42Z', 'state': 'running', 'submitted_at': '2018-08-27T09:43:05Z', 'metrics': []}\n",
      "{'current_at': '2018-08-27T10:31:46Z', 'running_at': '2018-08-27T09:43:42Z', 'state': 'running', 'submitted_at': '2018-08-27T09:43:05Z', 'metrics': []}\n",
      "{'current_at': '2018-08-27T10:32:47Z', 'running_at': '2018-08-27T09:43:42Z', 'state': 'running', 'submitted_at': '2018-08-27T09:43:05Z', 'metrics': []}\n",
      "{'current_at': '2018-08-27T10:33:38Z', 'running_at': '2018-08-27T09:43:42Z', 'state': 'running', 'submitted_at': '2018-08-27T09:43:05Z', 'metrics': []}\n",
      "{'current_at': '2018-08-27T10:34:59Z', 'running_at': '2018-08-27T09:43:42Z', 'state': 'running', 'submitted_at': '2018-08-27T09:43:05Z', 'metrics': []}\n",
      "{'current_at': '2018-08-27T10:35:29Z', 'running_at': '2018-08-27T09:43:42Z', 'state': 'running', 'submitted_at': '2018-08-27T09:43:05Z', 'metrics': []}\n",
      "{'current_at': '2018-08-27T10:36:00Z', 'running_at': '2018-08-27T09:43:42Z', 'state': 'running', 'submitted_at': '2018-08-27T09:43:05Z', 'metrics': []}\n",
      "{'current_at': '2018-08-27T10:36:41Z', 'running_at': '2018-08-27T09:43:42Z', 'state': 'running', 'submitted_at': '2018-08-27T09:43:05Z', 'metrics': []}\n",
      "{'current_at': '2018-08-27T10:37:11Z', 'running_at': '2018-08-27T09:43:42Z', 'state': 'running', 'submitted_at': '2018-08-27T09:43:05Z', 'metrics': []}\n",
      "{'current_at': '2018-08-27T10:37:52Z', 'running_at': '2018-08-27T09:43:42Z', 'state': 'running', 'submitted_at': '2018-08-27T09:43:05Z', 'metrics': []}\n",
      "{'current_at': '2018-08-27T10:38:22Z', 'running_at': '2018-08-27T09:43:42Z', 'state': 'running', 'submitted_at': '2018-08-27T09:43:05Z', 'metrics': []}\n",
      "{'current_at': '2018-08-27T10:38:53Z', 'running_at': '2018-08-27T09:43:42Z', 'state': 'running', 'submitted_at': '2018-08-27T09:43:05Z', 'metrics': []}\n",
      "{'current_at': '2018-08-27T10:39:34Z', 'running_at': '2018-08-27T09:43:42Z', 'state': 'running', 'submitted_at': '2018-08-27T09:43:05Z', 'metrics': []}\n",
      "{'current_at': '2018-08-27T10:40:04Z', 'running_at': '2018-08-27T09:43:42Z', 'state': 'running', 'submitted_at': '2018-08-27T09:43:05Z', 'metrics': []}\n",
      "{'current_at': '2018-08-27T10:40:45Z', 'running_at': '2018-08-27T09:43:42Z', 'state': 'running', 'submitted_at': '2018-08-27T09:43:05Z', 'metrics': []}\n",
      "{'current_at': '2018-08-27T10:41:15Z', 'running_at': '2018-08-27T09:43:42Z', 'state': 'running', 'submitted_at': '2018-08-27T09:43:05Z', 'metrics': []}\n",
      "{'current_at': '2018-08-27T10:41:46Z', 'running_at': '2018-08-27T09:43:42Z', 'state': 'running', 'submitted_at': '2018-08-27T09:43:05Z', 'metrics': []}\n",
      "{'current_at': '2018-08-27T10:42:26Z', 'running_at': '2018-08-27T09:43:42Z', 'state': 'running', 'submitted_at': '2018-08-27T09:43:05Z', 'metrics': []}\n",
      "{'message': '8320/9801 [========================>.....] - ETA: 16s - loss: 0.0059', 'running_at': '2018-08-27T09:43:42Z', 'state': 'running', 'metrics': [], 'current_at': '2018-08-27T10:42:52Z', 'submitted_at': '2018-08-27T09:43:05Z'}\n",
      "{'current_at': '2018-08-27T10:43:28Z', 'running_at': '2018-08-27T09:43:42Z', 'state': 'running', 'submitted_at': '2018-08-27T09:43:05Z', 'metrics': []}\n",
      "{'current_at': '2018-08-27T10:44:08Z', 'running_at': '2018-08-27T09:43:42Z', 'state': 'running', 'submitted_at': '2018-08-27T09:43:05Z', 'metrics': []}\n",
      "{'current_at': '2018-08-27T10:44:39Z', 'running_at': '2018-08-27T09:43:42Z', 'state': 'running', 'submitted_at': '2018-08-27T09:43:05Z', 'metrics': []}\n",
      "{'current_at': '2018-08-27T10:45:19Z', 'running_at': '2018-08-27T09:43:42Z', 'state': 'running', 'submitted_at': '2018-08-27T09:43:05Z', 'metrics': []}\n",
      "{'current_at': '2018-08-27T10:45:50Z', 'running_at': '2018-08-27T09:43:42Z', 'state': 'running', 'submitted_at': '2018-08-27T09:43:05Z', 'metrics': []}\n",
      "{'current_at': '2018-08-27T10:46:20Z', 'running_at': '2018-08-27T09:43:42Z', 'state': 'running', 'submitted_at': '2018-08-27T09:43:05Z', 'metrics': []}\n",
      "{'current_at': '2018-08-27T10:47:01Z', 'running_at': '2018-08-27T09:43:42Z', 'state': 'running', 'submitted_at': '2018-08-27T09:43:05Z', 'metrics': []}\n",
      "{'current_at': '2018-08-27T10:47:31Z', 'running_at': '2018-08-27T09:43:42Z', 'state': 'running', 'submitted_at': '2018-08-27T09:43:05Z', 'metrics': []}\n",
      "{'current_at': '2018-08-27T10:48:02Z', 'running_at': '2018-08-27T09:43:42Z', 'state': 'running', 'submitted_at': '2018-08-27T09:43:05Z', 'metrics': []}\n",
      "{'current_at': '2018-08-27T10:48:43Z', 'running_at': '2018-08-27T09:43:42Z', 'state': 'running', 'submitted_at': '2018-08-27T09:43:05Z', 'metrics': []}\n",
      "{'current_at': '2018-08-27T10:49:13Z', 'running_at': '2018-08-27T09:43:42Z', 'state': 'running', 'submitted_at': '2018-08-27T09:43:05Z', 'metrics': []}\n",
      "{'current_at': '2018-08-27T10:49:44Z', 'running_at': '2018-08-27T09:43:42Z', 'state': 'running', 'submitted_at': '2018-08-27T09:43:05Z', 'metrics': []}\n",
      "{'current_at': '2018-08-27T10:50:24Z', 'running_at': '2018-08-27T09:43:42Z', 'state': 'running', 'submitted_at': '2018-08-27T09:43:05Z', 'metrics': []}\n",
      "{'current_at': '2018-08-27T10:50:55Z', 'running_at': '2018-08-27T09:43:42Z', 'state': 'running', 'submitted_at': '2018-08-27T09:43:05Z', 'metrics': []}\n",
      "{'current_at': '2018-08-27T10:51:35Z', 'running_at': '2018-08-27T09:43:42Z', 'state': 'running', 'submitted_at': '2018-08-27T09:43:05Z', 'metrics': []}\n",
      "{'current_at': '2018-08-27T10:52:06Z', 'running_at': '2018-08-27T09:43:42Z', 'state': 'running', 'submitted_at': '2018-08-27T09:43:05Z', 'metrics': []}\n",
      "{'current_at': '2018-08-27T10:52:37Z', 'running_at': '2018-08-27T09:43:42Z', 'state': 'running', 'submitted_at': '2018-08-27T09:43:05Z', 'metrics': []}\n",
      "{'current_at': '2018-08-27T10:53:17Z', 'running_at': '2018-08-27T09:43:42Z', 'state': 'running', 'submitted_at': '2018-08-27T09:43:05Z', 'metrics': []}\n",
      "{'current_at': '2018-08-27T10:53:48Z', 'running_at': '2018-08-27T09:43:42Z', 'state': 'running', 'submitted_at': '2018-08-27T09:43:05Z', 'metrics': []}\n",
      "{'current_at': '2018-08-27T10:54:18Z', 'running_at': '2018-08-27T09:43:42Z', 'state': 'running', 'submitted_at': '2018-08-27T09:43:05Z', 'metrics': []}\n",
      "{'message': ' 912/9801 [=>............................] - ETA: 1:39 - loss: 0.0154\\n', 'running_at': '2018-08-27T09:43:42Z', 'state': 'running', 'metrics': [], 'current_at': '2018-08-27T10:54:54Z', 'submitted_at': '2018-08-27T09:43:05Z'}\n",
      "{'current_at': '2018-08-27T10:55:29Z', 'running_at': '2018-08-27T09:43:42Z', 'state': 'running', 'submitted_at': '2018-08-27T09:43:05Z', 'metrics': []}\n",
      "{'message': '7472/9801 [=====================>........] - ETA: 25s - loss: 0.0063\\n', 'running_at': '2018-08-27T09:43:42Z', 'state': 'running', 'metrics': [], 'current_at': '2018-08-27T10:55:55Z', 'submitted_at': '2018-08-27T09:43:05Z'}\n",
      "{'current_at': '2018-08-27T10:56:51Z', 'running_at': '2018-08-27T09:43:42Z', 'state': 'running', 'submitted_at': '2018-08-27T09:43:05Z', 'metrics': []}\n",
      "{'current_at': '2018-08-27T10:57:31Z', 'running_at': '2018-08-27T09:43:42Z', 'state': 'running', 'submitted_at': '2018-08-27T09:43:05Z', 'metrics': []}\n",
      "{'current_at': '2018-08-27T10:58:12Z', 'running_at': '2018-08-27T09:43:42Z', 'state': 'running', 'submitted_at': '2018-08-27T09:43:05Z', 'metrics': []}\n",
      "{'current_at': '2018-08-27T10:58:42Z', 'running_at': '2018-08-27T09:43:42Z', 'state': 'running', 'submitted_at': '2018-08-27T09:43:05Z', 'metrics': []}\n",
      "{'current_at': '2018-08-27T10:59:23Z', 'running_at': '2018-08-27T09:43:42Z', 'state': 'running', 'submitted_at': '2018-08-27T09:43:05Z', 'metrics': []}\n",
      "{'current_at': '2018-08-27T11:00:04Z', 'running_at': '2018-08-27T09:43:42Z', 'state': 'running', 'submitted_at': '2018-08-27T09:43:05Z', 'metrics': []}\n"
     ]
    },
    {
     "name": "stdout",
     "output_type": "stream",
     "text": [
      "{'current_at': '2018-08-27T11:01:25Z', 'running_at': '2018-08-27T09:43:42Z', 'state': 'running', 'submitted_at': '2018-08-27T09:43:05Z', 'metrics': []}\n",
      "{'current_at': '2018-08-27T11:02:06Z', 'running_at': '2018-08-27T09:43:42Z', 'state': 'running', 'submitted_at': '2018-08-27T09:43:05Z', 'metrics': []}\n",
      "{'current_at': '2018-08-27T11:02:47Z', 'running_at': '2018-08-27T09:43:42Z', 'state': 'running', 'submitted_at': '2018-08-27T09:43:05Z', 'metrics': []}\n",
      "{'current_at': '2018-08-27T11:03:27Z', 'running_at': '2018-08-27T09:43:42Z', 'state': 'running', 'submitted_at': '2018-08-27T09:43:05Z', 'metrics': []}\n",
      "{'current_at': '2018-08-27T11:04:08Z', 'running_at': '2018-08-27T09:43:42Z', 'state': 'running', 'submitted_at': '2018-08-27T09:43:05Z', 'metrics': []}\n",
      "{'current_at': '2018-08-27T11:04:59Z', 'running_at': '2018-08-27T09:43:42Z', 'state': 'running', 'submitted_at': '2018-08-27T09:43:05Z', 'metrics': []}\n",
      "{'current_at': '2018-08-27T11:05:29Z', 'running_at': '2018-08-27T09:43:42Z', 'state': 'running', 'submitted_at': '2018-08-27T09:43:05Z', 'metrics': []}\n",
      "{'current_at': '2018-08-27T11:06:00Z', 'running_at': '2018-08-27T09:43:42Z', 'state': 'running', 'submitted_at': '2018-08-27T09:43:05Z', 'metrics': []}\n",
      "{'current_at': '2018-08-27T11:06:41Z', 'running_at': '2018-08-27T09:43:42Z', 'state': 'running', 'submitted_at': '2018-08-27T09:43:05Z', 'metrics': []}\n",
      "{'current_at': '2018-08-27T11:07:11Z', 'running_at': '2018-08-27T09:43:42Z', 'state': 'running', 'submitted_at': '2018-08-27T09:43:05Z', 'metrics': []}\n",
      "{'current_at': '2018-08-27T11:07:42Z', 'running_at': '2018-08-27T09:43:42Z', 'state': 'running', 'submitted_at': '2018-08-27T09:43:05Z', 'metrics': []}\n",
      "{'current_at': '2018-08-27T11:08:22Z', 'running_at': '2018-08-27T09:43:42Z', 'state': 'running', 'submitted_at': '2018-08-27T09:43:05Z', 'metrics': []}\n",
      "{'current_at': '2018-08-27T11:08:53Z', 'running_at': '2018-08-27T09:43:42Z', 'state': 'running', 'submitted_at': '2018-08-27T09:43:05Z', 'metrics': []}\n",
      "{'current_at': '2018-08-27T11:09:23Z', 'running_at': '2018-08-27T09:43:42Z', 'state': 'running', 'submitted_at': '2018-08-27T09:43:05Z', 'metrics': []}\n",
      "{'current_at': '2018-08-27T11:10:04Z', 'running_at': '2018-08-27T09:43:42Z', 'state': 'running', 'submitted_at': '2018-08-27T09:43:05Z', 'metrics': []}\n",
      "{'current_at': '2018-08-27T11:10:35Z', 'running_at': '2018-08-27T09:43:42Z', 'state': 'running', 'submitted_at': '2018-08-27T09:43:05Z', 'metrics': []}\n",
      "{'current_at': '2018-08-27T11:11:05Z', 'running_at': '2018-08-27T09:43:42Z', 'state': 'running', 'submitted_at': '2018-08-27T09:43:05Z', 'metrics': []}\n",
      "{'current_at': '2018-08-27T11:11:46Z', 'running_at': '2018-08-27T09:43:42Z', 'state': 'running', 'submitted_at': '2018-08-27T09:43:05Z', 'metrics': []}\n",
      "{'current_at': '2018-08-27T11:12:16Z', 'running_at': '2018-08-27T09:43:42Z', 'state': 'running', 'submitted_at': '2018-08-27T09:43:05Z', 'metrics': []}\n",
      "{'current_at': '2018-08-27T11:12:47Z', 'running_at': '2018-08-27T09:43:42Z', 'state': 'running', 'submitted_at': '2018-08-27T09:43:05Z', 'metrics': []}\n",
      "{'current_at': '2018-08-27T11:13:27Z', 'running_at': '2018-08-27T09:43:42Z', 'state': 'running', 'submitted_at': '2018-08-27T09:43:05Z', 'metrics': []}\n",
      "{'current_at': '2018-08-27T11:13:58Z', 'running_at': '2018-08-27T09:43:42Z', 'state': 'running', 'submitted_at': '2018-08-27T09:43:05Z', 'metrics': []}\n",
      "{'current_at': '2018-08-27T11:14:28Z', 'running_at': '2018-08-27T09:43:42Z', 'state': 'running', 'submitted_at': '2018-08-27T09:43:05Z', 'metrics': []}\n",
      "{'current_at': '2018-08-27T11:15:09Z', 'running_at': '2018-08-27T09:43:42Z', 'state': 'running', 'submitted_at': '2018-08-27T09:43:05Z', 'metrics': []}\n",
      "{'current_at': '2018-08-27T11:15:40Z', 'running_at': '2018-08-27T09:43:42Z', 'state': 'running', 'submitted_at': '2018-08-27T09:43:05Z', 'metrics': []}\n",
      "{'current_at': '2018-08-27T11:16:20Z', 'running_at': '2018-08-27T09:43:42Z', 'state': 'running', 'submitted_at': '2018-08-27T09:43:05Z', 'metrics': []}\n",
      "{'current_at': '2018-08-27T11:16:51Z', 'running_at': '2018-08-27T09:43:42Z', 'state': 'running', 'submitted_at': '2018-08-27T09:43:05Z', 'metrics': []}\n",
      "{'current_at': '2018-08-27T11:17:21Z', 'running_at': '2018-08-27T09:43:42Z', 'state': 'running', 'submitted_at': '2018-08-27T09:43:05Z', 'metrics': []}\n",
      "{'current_at': '2018-08-27T11:18:02Z', 'running_at': '2018-08-27T09:43:42Z', 'state': 'running', 'submitted_at': '2018-08-27T09:43:05Z', 'metrics': []}\n",
      "{'message': '5120/9801 [==============>...............] - ETA: 53s - loss: 0.0069\\n', 'running_at': '2018-08-27T09:43:42Z', 'state': 'running', 'metrics': [], 'current_at': '2018-08-27T11:18:32Z', 'submitted_at': '2018-08-27T09:43:05Z'}\n",
      "{'current_at': '2018-08-27T11:19:03Z', 'running_at': '2018-08-27T09:43:42Z', 'state': 'running', 'submitted_at': '2018-08-27T09:43:05Z', 'metrics': []}\n",
      "{'current_at': '2018-08-27T11:19:43Z', 'running_at': '2018-08-27T09:43:42Z', 'state': 'running', 'submitted_at': '2018-08-27T09:43:05Z', 'metrics': []}\n",
      "{'current_at': '2018-08-27T11:20:14Z', 'running_at': '2018-08-27T09:44:10Z', 'state': 'running', 'submitted_at': '2018-08-27T09:43:05Z', 'metrics': []}\n",
      "{'current_at': '2018-08-27T11:20:55Z', 'running_at': '2018-08-27T09:44:10Z', 'state': 'running', 'submitted_at': '2018-08-27T09:43:05Z', 'metrics': []}\n"
     ]
    }
   ],
   "source": [
    "#get training status once or get the status per 30 seconds\n",
    "\n",
    "import time\n",
    "while not ((client.training.get_status( run_uid )['state']=='completed') or (client.training.get_status( run_uid )['state']=='error')):\n",
    "    print(client.training.get_status( run_uid ))\n",
    "    time.sleep(30)\n",
    "client.training.get_status( run_uid )"
   ]
  },
  {
   "cell_type": "code",
   "execution_count": 35,
   "metadata": {},
   "outputs": [],
   "source": [
    "#download the test picture\n",
    "bucket_download = buckets[1]\n",
    "bucket_obj_d = cos.Bucket(bucket_download)\n",
    "current_dir = run_uid\n",
    "bucket_obj_d.download_file(current_dir+'/picture/pred_act.png', './pred_act.png')"
   ]
  },
  {
   "cell_type": "code",
   "execution_count": null,
   "metadata": {},
   "outputs": [],
   "source": []
  }
 ],
 "metadata": {
  "kernelspec": {
   "display_name": "Python 3",
   "language": "python",
   "name": "python3"
  },
  "language_info": {
   "codemirror_mode": {
    "name": "ipython",
    "version": 3
   },
   "file_extension": ".py",
   "mimetype": "text/x-python",
   "name": "python",
   "nbconvert_exporter": "python",
   "pygments_lexer": "ipython3",
   "version": "3.5.2"
  }
 },
 "nbformat": 4,
 "nbformat_minor": 1
}
